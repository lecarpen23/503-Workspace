{
 "cells": [
  {
   "cell_type": "raw",
   "metadata": {},
   "source": [
    "---\n",
    "title: \"Lab-4:2: Working with Altair\"\n",
    "format:\n",
    "  html:\n",
    "    toc: true\n",
    "    embed-resources: true\n",
    "execute:\n",
    "  echo: true\n",
    "---"
   ]
  },
  {
   "cell_type": "markdown",
   "metadata": {},
   "source": [
    "**Author**: M. Vaisman\n",
    "\n",
    "**Download:** [Click here](lab-4.2_empty.ipynb.zip) to download the assignment notebook\n",
    "\n",
    "**Instructions** \n",
    "\n",
    "This notebook consists of TWO parts\n",
    "\n",
    "(1): **Demonstration section:** The instructors will work through this section during the lab period. It is meant to be educational, with various code examples provided for you. You should understand all code in the demonstration section and should run the cells on your local machine before attempting the assignment.\n",
    "\n",
    "(2): **Lab assignment:** See below\n",
    "\n",
    "**NOTE**: It is recommended that you complete this `.ipynb` file in VS-code. Activate the `anly503` environment by selecting the kernel in the upper-right corner of VS-code.  "
   ]
  },
  {
   "cell_type": "markdown",
   "metadata": {},
   "source": [
    "\n",
    "**Submission:**\n",
    "\n",
    "* You need to upload ONE document to Canvas when you are done\n",
    "  * (1) An HTML of the completed notebook \n",
    "* The final uploaded version should NOT have any code-errors present \n",
    "* All outputs must be visible and fully functional in the uploaded version, including code-cell outputs, images, graphs, etc"
   ]
  },
  {
   "cell_type": "markdown",
   "metadata": {},
   "source": [
    "## Demonstration\n",
    "\n",
    "Before starting the assignment, lets work through the various sub-components needed.\n",
    "\n",
    "### Dataset description\n",
    "\n",
    "Back in 2019 (pre-pandemic), Hong Kong nurses protested for overcrowding and lack of resources at public hospitals. [Click here to read the article in the Hong Kong Free Press](https://hongkongfp.com/2019/01/21/hong-kong-nurses-protest-overcrowding-lack-resources-public-hospitals-health-chief-booed/)\n",
    "\n",
    "\n",
    "It seems that someone actually collected data about wait times at the hospitals. We'll be working with that file which provides about 30,000 records of wait times (for a patient) to be seen and/or admitted.\n",
    "\n",
    "The data has the name of the hospital, the date it was collected, the maximum wait time (in hours), and extracted features from the dates.\n"
   ]
  },
  {
   "cell_type": "markdown",
   "metadata": {},
   "source": [
    "### Import"
   ]
  },
  {
   "cell_type": "code",
   "execution_count": 2,
   "metadata": {},
   "outputs": [],
   "source": [
    "import pandas as pd\n",
    "import altair as alt\n",
    "df = pd.read_parquet(\n",
    "    \"https://github.com/anly503/datasets/raw/main/hk_hospital_wait.parquet\"\n",
    ")\n"
   ]
  },
  {
   "cell_type": "code",
   "execution_count": 3,
   "metadata": {},
   "outputs": [
    {
     "data": {
      "text/html": [
       "<div>\n",
       "<style scoped>\n",
       "    .dataframe tbody tr th:only-of-type {\n",
       "        vertical-align: middle;\n",
       "    }\n",
       "\n",
       "    .dataframe tbody tr th {\n",
       "        vertical-align: top;\n",
       "    }\n",
       "\n",
       "    .dataframe thead th {\n",
       "        text-align: right;\n",
       "    }\n",
       "</style>\n",
       "<table border=\"1\" class=\"dataframe\">\n",
       "  <thead>\n",
       "    <tr style=\"text-align: right;\">\n",
       "      <th></th>\n",
       "      <th>hospital_name</th>\n",
       "      <th>hospital_time</th>\n",
       "      <th>max_wait</th>\n",
       "      <th>yr</th>\n",
       "      <th>mo</th>\n",
       "      <th>dy</th>\n",
       "      <th>hr</th>\n",
       "      <th>week</th>\n",
       "      <th>wkday</th>\n",
       "      <th>wkday_name</th>\n",
       "    </tr>\n",
       "  </thead>\n",
       "  <tbody>\n",
       "    <tr>\n",
       "      <th>0</th>\n",
       "      <td>Queen Mary</td>\n",
       "      <td>2019-02-21 09:00:09.290000+00:00</td>\n",
       "      <td>3</td>\n",
       "      <td>2019.0</td>\n",
       "      <td>2.0</td>\n",
       "      <td>21</td>\n",
       "      <td>9</td>\n",
       "      <td>8.0</td>\n",
       "      <td>5.0</td>\n",
       "      <td>Thu</td>\n",
       "    </tr>\n",
       "    <tr>\n",
       "      <th>1</th>\n",
       "      <td>Alice Ho Miu Ling Nethersole</td>\n",
       "      <td>2019-02-21 10:00:01.783000+00:00</td>\n",
       "      <td>2</td>\n",
       "      <td>2019.0</td>\n",
       "      <td>2.0</td>\n",
       "      <td>21</td>\n",
       "      <td>10</td>\n",
       "      <td>8.0</td>\n",
       "      <td>5.0</td>\n",
       "      <td>Thu</td>\n",
       "    </tr>\n",
       "    <tr>\n",
       "      <th>2</th>\n",
       "      <td>Queen Mary</td>\n",
       "      <td>2019-02-21 11:00:11.893000+00:00</td>\n",
       "      <td>2</td>\n",
       "      <td>2019.0</td>\n",
       "      <td>2.0</td>\n",
       "      <td>21</td>\n",
       "      <td>11</td>\n",
       "      <td>8.0</td>\n",
       "      <td>5.0</td>\n",
       "      <td>Thu</td>\n",
       "    </tr>\n",
       "    <tr>\n",
       "      <th>3</th>\n",
       "      <td>Alice Ho Miu Ling Nethersole</td>\n",
       "      <td>2019-02-21 12:00:02.256000+00:00</td>\n",
       "      <td>2</td>\n",
       "      <td>2019.0</td>\n",
       "      <td>2.0</td>\n",
       "      <td>21</td>\n",
       "      <td>12</td>\n",
       "      <td>8.0</td>\n",
       "      <td>5.0</td>\n",
       "      <td>Thu</td>\n",
       "    </tr>\n",
       "    <tr>\n",
       "      <th>4</th>\n",
       "      <td>Pamela Youde Nethersole Eastern</td>\n",
       "      <td>2019-02-21 12:00:01.646000+00:00</td>\n",
       "      <td>4</td>\n",
       "      <td>2019.0</td>\n",
       "      <td>2.0</td>\n",
       "      <td>21</td>\n",
       "      <td>12</td>\n",
       "      <td>8.0</td>\n",
       "      <td>5.0</td>\n",
       "      <td>Thu</td>\n",
       "    </tr>\n",
       "  </tbody>\n",
       "</table>\n",
       "</div>"
      ],
      "text/plain": [
       "                     hospital_name                    hospital_time  max_wait  \\\n",
       "0                       Queen Mary 2019-02-21 09:00:09.290000+00:00         3   \n",
       "1     Alice Ho Miu Ling Nethersole 2019-02-21 10:00:01.783000+00:00         2   \n",
       "2                       Queen Mary 2019-02-21 11:00:11.893000+00:00         2   \n",
       "3     Alice Ho Miu Ling Nethersole 2019-02-21 12:00:02.256000+00:00         2   \n",
       "4  Pamela Youde Nethersole Eastern 2019-02-21 12:00:01.646000+00:00         4   \n",
       "\n",
       "       yr   mo  dy  hr  week  wkday wkday_name  \n",
       "0  2019.0  2.0  21   9   8.0    5.0        Thu  \n",
       "1  2019.0  2.0  21  10   8.0    5.0        Thu  \n",
       "2  2019.0  2.0  21  11   8.0    5.0        Thu  \n",
       "3  2019.0  2.0  21  12   8.0    5.0        Thu  \n",
       "4  2019.0  2.0  21  12   8.0    5.0        Thu  "
      ]
     },
     "execution_count": 3,
     "metadata": {},
     "output_type": "execute_result"
    }
   ],
   "source": [
    "df.head()"
   ]
  },
  {
   "cell_type": "code",
   "execution_count": 4,
   "metadata": {},
   "outputs": [
    {
     "data": {
      "text/plain": [
       "<bound method NDFrame.describe of                          hospital_name                    hospital_time  \\\n",
       "0                           Queen Mary 2019-02-21 09:00:09.290000+00:00   \n",
       "1         Alice Ho Miu Ling Nethersole 2019-02-21 10:00:01.783000+00:00   \n",
       "2                           Queen Mary 2019-02-21 11:00:11.893000+00:00   \n",
       "3         Alice Ho Miu Ling Nethersole 2019-02-21 12:00:02.256000+00:00   \n",
       "4      Pamela Youde Nethersole Eastern 2019-02-21 12:00:01.646000+00:00   \n",
       "...                                ...                              ...   \n",
       "32373                        Ruttonjee 2019-02-21 08:00:01.313000+00:00   \n",
       "32374                   North District 2019-02-20 21:00:25.620000+00:00   \n",
       "32375                        Kwong Wah 2019-02-20 22:00:03.096000+00:00   \n",
       "32376                  Prince of Wales 2019-02-21 08:00:02.090000+00:00   \n",
       "32377                 United Christian 2019-02-20 08:00:02.680000+00:00   \n",
       "\n",
       "       max_wait      yr   mo  dy  hr  week  wkday wkday_name  \n",
       "0             3  2019.0  2.0  21   9   8.0    5.0        Thu  \n",
       "1             2  2019.0  2.0  21  10   8.0    5.0        Thu  \n",
       "2             2  2019.0  2.0  21  11   8.0    5.0        Thu  \n",
       "3             2  2019.0  2.0  21  12   8.0    5.0        Thu  \n",
       "4             4  2019.0  2.0  21  12   8.0    5.0        Thu  \n",
       "...         ...     ...  ...  ..  ..   ...    ...        ...  \n",
       "32373         2  2019.0  2.0  21   8   8.0    5.0        Thu  \n",
       "32374         5  2019.0  2.0  20  21   8.0    4.0        Wed  \n",
       "32375         3  2019.0  2.0  20  22   8.0    4.0        Wed  \n",
       "32376         8  2019.0  2.0  21   8   8.0    5.0        Thu  \n",
       "32377         8  2019.0  2.0  20   8   8.0    4.0        Wed  \n",
       "\n",
       "[32378 rows x 10 columns]>"
      ]
     },
     "execution_count": 4,
     "metadata": {},
     "output_type": "execute_result"
    }
   ],
   "source": [
    "df.describe"
   ]
  },
  {
   "cell_type": "markdown",
   "metadata": {},
   "source": [
    "## Working with datasets larger than 5,000 rows\n",
    "\n",
    "As you can see, this dataset has 32,000 rows and we know that Altair has a 5,000 row limit. This is for the embedded data in a chart. \n",
    "\n",
    "However, there is a way to do this. By enabling the `alt.data_transformers.enable('json')` transformer, each time you make a plot the data will be serialized to disk and referenced by external URL (on disk), rather than being embedded in the notebook output.\n",
    "\n",
    "This means that the notebook **will not** have the data embedded, but it gives you the ability to use the Altair transformers instead of pre-aggregating the data in Pandas (which is the preferred method.)\n"
   ]
  },
  {
   "cell_type": "code",
   "execution_count": 5,
   "metadata": {},
   "outputs": [
    {
     "data": {
      "text/plain": [
       "DataTransformerRegistry.enable('json')"
      ]
     },
     "execution_count": 5,
     "metadata": {},
     "output_type": "execute_result"
    }
   ],
   "source": [
    "alt.data_transformers.enable('json')"
   ]
  },
  {
   "cell_type": "markdown",
   "metadata": {},
   "source": [
    "## Exploring the data\n",
    "\n",
    "We will begin by looking at the average maximum wait time, across all hospitals, by day-of-the-week and week-of-the-year, regardless of year. We'll build a heatmap witl the days of the week (day number) on the y axis and the week of the year on the x axis.\n",
    "\n",
    "### Example 1a: Heatmap of average wait time (across all hospitals) by week-of-the-year and day-of-the-week for the entire period"
   ]
  },
  {
   "cell_type": "code",
   "execution_count": 6,
   "metadata": {},
   "outputs": [
    {
     "data": {
      "text/html": [
       "\n",
       "<div id=\"altair-viz-4355233a63a34e0f85160fe4be97f708\"></div>\n",
       "<script type=\"text/javascript\">\n",
       "  var VEGA_DEBUG = (typeof VEGA_DEBUG == \"undefined\") ? {} : VEGA_DEBUG;\n",
       "  (function(spec, embedOpt){\n",
       "    let outputDiv = document.currentScript.previousElementSibling;\n",
       "    if (outputDiv.id !== \"altair-viz-4355233a63a34e0f85160fe4be97f708\") {\n",
       "      outputDiv = document.getElementById(\"altair-viz-4355233a63a34e0f85160fe4be97f708\");\n",
       "    }\n",
       "    const paths = {\n",
       "      \"vega\": \"https://cdn.jsdelivr.net/npm//vega@5?noext\",\n",
       "      \"vega-lib\": \"https://cdn.jsdelivr.net/npm//vega-lib?noext\",\n",
       "      \"vega-lite\": \"https://cdn.jsdelivr.net/npm//vega-lite@4.17.0?noext\",\n",
       "      \"vega-embed\": \"https://cdn.jsdelivr.net/npm//vega-embed@6?noext\",\n",
       "    };\n",
       "\n",
       "    function maybeLoadScript(lib, version) {\n",
       "      var key = `${lib.replace(\"-\", \"\")}_version`;\n",
       "      return (VEGA_DEBUG[key] == version) ?\n",
       "        Promise.resolve(paths[lib]) :\n",
       "        new Promise(function(resolve, reject) {\n",
       "          var s = document.createElement('script');\n",
       "          document.getElementsByTagName(\"head\")[0].appendChild(s);\n",
       "          s.async = true;\n",
       "          s.onload = () => {\n",
       "            VEGA_DEBUG[key] = version;\n",
       "            return resolve(paths[lib]);\n",
       "          };\n",
       "          s.onerror = () => reject(`Error loading script: ${paths[lib]}`);\n",
       "          s.src = paths[lib];\n",
       "        });\n",
       "    }\n",
       "\n",
       "    function showError(err) {\n",
       "      outputDiv.innerHTML = `<div class=\"error\" style=\"color:red;\">${err}</div>`;\n",
       "      throw err;\n",
       "    }\n",
       "\n",
       "    function displayChart(vegaEmbed) {\n",
       "      vegaEmbed(outputDiv, spec, embedOpt)\n",
       "        .catch(err => showError(`Javascript Error: ${err.message}<br>This usually means there's a typo in your chart specification. See the javascript console for the full traceback.`));\n",
       "    }\n",
       "\n",
       "    if(typeof define === \"function\" && define.amd) {\n",
       "      requirejs.config({paths});\n",
       "      require([\"vega-embed\"], displayChart, err => showError(`Error loading script: ${err.message}`));\n",
       "    } else {\n",
       "      maybeLoadScript(\"vega\", \"5\")\n",
       "        .then(() => maybeLoadScript(\"vega-lite\", \"4.17.0\"))\n",
       "        .then(() => maybeLoadScript(\"vega-embed\", \"6\"))\n",
       "        .catch(showError)\n",
       "        .then(() => displayChart(vegaEmbed));\n",
       "    }\n",
       "  })({\"config\": {\"view\": {\"continuousWidth\": 400, \"continuousHeight\": 300}}, \"data\": {\"url\": \"altair-data-2d2a1d3a705305077a6b0c04ade7af65.json\", \"format\": {\"type\": \"json\"}}, \"mark\": \"rect\", \"encoding\": {\"color\": {\"aggregate\": \"mean\", \"field\": \"max_wait\", \"scale\": {\"scheme\": \"orangered\"}, \"type\": \"quantitative\"}, \"x\": {\"field\": \"week\", \"type\": \"ordinal\"}, \"y\": {\"field\": \"wkday_name\", \"type\": \"ordinal\"}}, \"$schema\": \"https://vega.github.io/schema/vega-lite/v4.17.0.json\"}, {\"mode\": \"vega-lite\"});\n",
       "</script>"
      ],
      "text/plain": [
       "alt.Chart(...)"
      ]
     },
     "execution_count": 6,
     "metadata": {},
     "output_type": "execute_result"
    }
   ],
   "source": [
    "(alt.Chart(df)\n",
    " .mark_rect()\n",
    " .encode(x='week:O',\n",
    "         y='wkday_name:O' \n",
    "        ,color=alt.Color('mean(max_wait):Q', scale=alt.Scale(scheme='orangered')))\n",
    ")"
   ]
  },
  {
   "cell_type": "markdown",
   "metadata": {},
   "source": [
    "### Example 1b: Same heatmap, faceted by year."
   ]
  },
  {
   "cell_type": "code",
   "execution_count": 7,
   "metadata": {},
   "outputs": [
    {
     "data": {
      "text/html": [
       "\n",
       "<div id=\"altair-viz-86c80b33f8f34f159793e48855b44533\"></div>\n",
       "<script type=\"text/javascript\">\n",
       "  var VEGA_DEBUG = (typeof VEGA_DEBUG == \"undefined\") ? {} : VEGA_DEBUG;\n",
       "  (function(spec, embedOpt){\n",
       "    let outputDiv = document.currentScript.previousElementSibling;\n",
       "    if (outputDiv.id !== \"altair-viz-86c80b33f8f34f159793e48855b44533\") {\n",
       "      outputDiv = document.getElementById(\"altair-viz-86c80b33f8f34f159793e48855b44533\");\n",
       "    }\n",
       "    const paths = {\n",
       "      \"vega\": \"https://cdn.jsdelivr.net/npm//vega@5?noext\",\n",
       "      \"vega-lib\": \"https://cdn.jsdelivr.net/npm//vega-lib?noext\",\n",
       "      \"vega-lite\": \"https://cdn.jsdelivr.net/npm//vega-lite@4.17.0?noext\",\n",
       "      \"vega-embed\": \"https://cdn.jsdelivr.net/npm//vega-embed@6?noext\",\n",
       "    };\n",
       "\n",
       "    function maybeLoadScript(lib, version) {\n",
       "      var key = `${lib.replace(\"-\", \"\")}_version`;\n",
       "      return (VEGA_DEBUG[key] == version) ?\n",
       "        Promise.resolve(paths[lib]) :\n",
       "        new Promise(function(resolve, reject) {\n",
       "          var s = document.createElement('script');\n",
       "          document.getElementsByTagName(\"head\")[0].appendChild(s);\n",
       "          s.async = true;\n",
       "          s.onload = () => {\n",
       "            VEGA_DEBUG[key] = version;\n",
       "            return resolve(paths[lib]);\n",
       "          };\n",
       "          s.onerror = () => reject(`Error loading script: ${paths[lib]}`);\n",
       "          s.src = paths[lib];\n",
       "        });\n",
       "    }\n",
       "\n",
       "    function showError(err) {\n",
       "      outputDiv.innerHTML = `<div class=\"error\" style=\"color:red;\">${err}</div>`;\n",
       "      throw err;\n",
       "    }\n",
       "\n",
       "    function displayChart(vegaEmbed) {\n",
       "      vegaEmbed(outputDiv, spec, embedOpt)\n",
       "        .catch(err => showError(`Javascript Error: ${err.message}<br>This usually means there's a typo in your chart specification. See the javascript console for the full traceback.`));\n",
       "    }\n",
       "\n",
       "    if(typeof define === \"function\" && define.amd) {\n",
       "      requirejs.config({paths});\n",
       "      require([\"vega-embed\"], displayChart, err => showError(`Error loading script: ${err.message}`));\n",
       "    } else {\n",
       "      maybeLoadScript(\"vega\", \"5\")\n",
       "        .then(() => maybeLoadScript(\"vega-lite\", \"4.17.0\"))\n",
       "        .then(() => maybeLoadScript(\"vega-embed\", \"6\"))\n",
       "        .catch(showError)\n",
       "        .then(() => displayChart(vegaEmbed));\n",
       "    }\n",
       "  })({\"config\": {\"view\": {\"continuousWidth\": 400, \"continuousHeight\": 300}}, \"data\": {\"url\": \"altair-data-2d2a1d3a705305077a6b0c04ade7af65.json\", \"format\": {\"type\": \"json\"}}, \"facet\": {\"row\": {\"field\": \"yr\", \"type\": \"quantitative\"}}, \"spec\": {\"mark\": \"rect\", \"encoding\": {\"color\": {\"aggregate\": \"mean\", \"field\": \"max_wait\", \"scale\": {\"scheme\": \"orangered\"}, \"type\": \"quantitative\"}, \"x\": {\"field\": \"week\", \"type\": \"ordinal\"}, \"y\": {\"field\": \"wkday_name\", \"type\": \"ordinal\"}}}, \"$schema\": \"https://vega.github.io/schema/vega-lite/v4.17.0.json\"}, {\"mode\": \"vega-lite\"});\n",
       "</script>"
      ],
      "text/plain": [
       "alt.FacetChart(...)"
      ]
     },
     "execution_count": 7,
     "metadata": {},
     "output_type": "execute_result"
    }
   ],
   "source": [
    "(alt.Chart(df)\n",
    " .mark_rect()\n",
    " .encode(x='week:O',\n",
    "         y='wkday_name:O' \n",
    "        ,color=alt.Color('mean(max_wait):Q', scale=alt.Scale(scheme='orangered')))\n",
    ").facet(\n",
    "    row=\"yr\"\n",
    ")"
   ]
  },
  {
   "cell_type": "markdown",
   "metadata": {},
   "source": [
    "### Example 2: Let's look at the average maximum wait time, by hospital, by date for the entire period. Note the tooltip."
   ]
  },
  {
   "cell_type": "code",
   "execution_count": 8,
   "metadata": {},
   "outputs": [
    {
     "data": {
      "text/html": [
       "\n",
       "<div id=\"altair-viz-2ef0caea3fea4cffa2079fd8c0674935\"></div>\n",
       "<script type=\"text/javascript\">\n",
       "  var VEGA_DEBUG = (typeof VEGA_DEBUG == \"undefined\") ? {} : VEGA_DEBUG;\n",
       "  (function(spec, embedOpt){\n",
       "    let outputDiv = document.currentScript.previousElementSibling;\n",
       "    if (outputDiv.id !== \"altair-viz-2ef0caea3fea4cffa2079fd8c0674935\") {\n",
       "      outputDiv = document.getElementById(\"altair-viz-2ef0caea3fea4cffa2079fd8c0674935\");\n",
       "    }\n",
       "    const paths = {\n",
       "      \"vega\": \"https://cdn.jsdelivr.net/npm//vega@5?noext\",\n",
       "      \"vega-lib\": \"https://cdn.jsdelivr.net/npm//vega-lib?noext\",\n",
       "      \"vega-lite\": \"https://cdn.jsdelivr.net/npm//vega-lite@4.17.0?noext\",\n",
       "      \"vega-embed\": \"https://cdn.jsdelivr.net/npm//vega-embed@6?noext\",\n",
       "    };\n",
       "\n",
       "    function maybeLoadScript(lib, version) {\n",
       "      var key = `${lib.replace(\"-\", \"\")}_version`;\n",
       "      return (VEGA_DEBUG[key] == version) ?\n",
       "        Promise.resolve(paths[lib]) :\n",
       "        new Promise(function(resolve, reject) {\n",
       "          var s = document.createElement('script');\n",
       "          document.getElementsByTagName(\"head\")[0].appendChild(s);\n",
       "          s.async = true;\n",
       "          s.onload = () => {\n",
       "            VEGA_DEBUG[key] = version;\n",
       "            return resolve(paths[lib]);\n",
       "          };\n",
       "          s.onerror = () => reject(`Error loading script: ${paths[lib]}`);\n",
       "          s.src = paths[lib];\n",
       "        });\n",
       "    }\n",
       "\n",
       "    function showError(err) {\n",
       "      outputDiv.innerHTML = `<div class=\"error\" style=\"color:red;\">${err}</div>`;\n",
       "      throw err;\n",
       "    }\n",
       "\n",
       "    function displayChart(vegaEmbed) {\n",
       "      vegaEmbed(outputDiv, spec, embedOpt)\n",
       "        .catch(err => showError(`Javascript Error: ${err.message}<br>This usually means there's a typo in your chart specification. See the javascript console for the full traceback.`));\n",
       "    }\n",
       "\n",
       "    if(typeof define === \"function\" && define.amd) {\n",
       "      requirejs.config({paths});\n",
       "      require([\"vega-embed\"], displayChart, err => showError(`Error loading script: ${err.message}`));\n",
       "    } else {\n",
       "      maybeLoadScript(\"vega\", \"5\")\n",
       "        .then(() => maybeLoadScript(\"vega-lite\", \"4.17.0\"))\n",
       "        .then(() => maybeLoadScript(\"vega-embed\", \"6\"))\n",
       "        .catch(showError)\n",
       "        .then(() => displayChart(vegaEmbed));\n",
       "    }\n",
       "  })({\"config\": {\"view\": {\"continuousWidth\": 400, \"continuousHeight\": 300}}, \"data\": {\"url\": \"altair-data-2d2a1d3a705305077a6b0c04ade7af65.json\", \"format\": {\"type\": \"json\"}}, \"mark\": \"rect\", \"encoding\": {\"color\": {\"aggregate\": \"mean\", \"field\": \"max_wait\", \"legend\": {\"type\": \"symbol\"}, \"scale\": {\"scheme\": \"orangered\"}, \"type\": \"quantitative\"}, \"tooltip\": [{\"aggregate\": \"mean\", \"field\": \"max_wait\", \"type\": \"quantitative\"}, {\"field\": \"hospital_name\", \"type\": \"nominal\"}], \"x\": {\"field\": \"hospital_time\", \"timeUnit\": \"yearmonthdate\", \"type\": \"ordinal\"}, \"y\": {\"field\": \"hospital_name\", \"type\": \"nominal\"}}, \"$schema\": \"https://vega.github.io/schema/vega-lite/v4.17.0.json\"}, {\"mode\": \"vega-lite\"});\n",
       "</script>"
      ],
      "text/plain": [
       "alt.Chart(...)"
      ]
     },
     "execution_count": 8,
     "metadata": {},
     "output_type": "execute_result"
    }
   ],
   "source": [
    "(alt.Chart(df)\n",
    " .mark_rect()\n",
    " .encode(x='yearmonthdate(hospital_time):O',\n",
    "         y='hospital_name:N',\n",
    "         color=alt.Color('mean(max_wait):Q',\n",
    "                         scale=alt.Scale(scheme='orangered'),\n",
    "                         legend=alt.Legend(type='symbol')\n",
    "                        ),\n",
    "         tooltip=['mean(max_wait)','hospital_name:N'],\n",
    "         \n",
    "        )\n",
    ")"
   ]
  },
  {
   "cell_type": "markdown",
   "metadata": {},
   "source": [
    "### Example 3a: Average maximum wait time by hospital\n",
    "\n",
    "Click on a bar and see what happens!"
   ]
  },
  {
   "cell_type": "code",
   "execution_count": 9,
   "metadata": {},
   "outputs": [
    {
     "data": {
      "text/html": [
       "\n",
       "<div id=\"altair-viz-6a5d86efecef4536a8429acf8b778865\"></div>\n",
       "<script type=\"text/javascript\">\n",
       "  var VEGA_DEBUG = (typeof VEGA_DEBUG == \"undefined\") ? {} : VEGA_DEBUG;\n",
       "  (function(spec, embedOpt){\n",
       "    let outputDiv = document.currentScript.previousElementSibling;\n",
       "    if (outputDiv.id !== \"altair-viz-6a5d86efecef4536a8429acf8b778865\") {\n",
       "      outputDiv = document.getElementById(\"altair-viz-6a5d86efecef4536a8429acf8b778865\");\n",
       "    }\n",
       "    const paths = {\n",
       "      \"vega\": \"https://cdn.jsdelivr.net/npm//vega@5?noext\",\n",
       "      \"vega-lib\": \"https://cdn.jsdelivr.net/npm//vega-lib?noext\",\n",
       "      \"vega-lite\": \"https://cdn.jsdelivr.net/npm//vega-lite@4.17.0?noext\",\n",
       "      \"vega-embed\": \"https://cdn.jsdelivr.net/npm//vega-embed@6?noext\",\n",
       "    };\n",
       "\n",
       "    function maybeLoadScript(lib, version) {\n",
       "      var key = `${lib.replace(\"-\", \"\")}_version`;\n",
       "      return (VEGA_DEBUG[key] == version) ?\n",
       "        Promise.resolve(paths[lib]) :\n",
       "        new Promise(function(resolve, reject) {\n",
       "          var s = document.createElement('script');\n",
       "          document.getElementsByTagName(\"head\")[0].appendChild(s);\n",
       "          s.async = true;\n",
       "          s.onload = () => {\n",
       "            VEGA_DEBUG[key] = version;\n",
       "            return resolve(paths[lib]);\n",
       "          };\n",
       "          s.onerror = () => reject(`Error loading script: ${paths[lib]}`);\n",
       "          s.src = paths[lib];\n",
       "        });\n",
       "    }\n",
       "\n",
       "    function showError(err) {\n",
       "      outputDiv.innerHTML = `<div class=\"error\" style=\"color:red;\">${err}</div>`;\n",
       "      throw err;\n",
       "    }\n",
       "\n",
       "    function displayChart(vegaEmbed) {\n",
       "      vegaEmbed(outputDiv, spec, embedOpt)\n",
       "        .catch(err => showError(`Javascript Error: ${err.message}<br>This usually means there's a typo in your chart specification. See the javascript console for the full traceback.`));\n",
       "    }\n",
       "\n",
       "    if(typeof define === \"function\" && define.amd) {\n",
       "      requirejs.config({paths});\n",
       "      require([\"vega-embed\"], displayChart, err => showError(`Error loading script: ${err.message}`));\n",
       "    } else {\n",
       "      maybeLoadScript(\"vega\", \"5\")\n",
       "        .then(() => maybeLoadScript(\"vega-lite\", \"4.17.0\"))\n",
       "        .then(() => maybeLoadScript(\"vega-embed\", \"6\"))\n",
       "        .catch(showError)\n",
       "        .then(() => displayChart(vegaEmbed));\n",
       "    }\n",
       "  })({\"config\": {\"view\": {\"continuousWidth\": 400, \"continuousHeight\": 300}}, \"data\": {\"url\": \"altair-data-2d2a1d3a705305077a6b0c04ade7af65.json\", \"format\": {\"type\": \"json\"}}, \"mark\": \"bar\", \"encoding\": {\"color\": {\"condition\": {\"value\": \"steelblue\", \"selection\": \"Random\"}, \"value\": \"lightgray\"}, \"x\": {\"field\": \"hospital_name\", \"sort\": {\"field\": \"max_wait\", \"op\": \"mean\", \"order\": \"descending\"}, \"title\": \"Hospital\", \"type\": \"nominal\"}, \"y\": {\"aggregate\": \"mean\", \"field\": \"max_wait\", \"title\": \"Average Waiting Time in Hour(s)\", \"type\": \"quantitative\"}}, \"selection\": {\"Random\": {\"type\": \"single\", \"fields\": [\"hospital_name\"]}}, \"title\": \"Mean Waiting Time for Hong Kong's Hospital\", \"$schema\": \"https://vega.github.io/schema/vega-lite/v4.17.0.json\"}, {\"mode\": \"vega-lite\"});\n",
       "</script>"
      ],
      "text/plain": [
       "alt.Chart(...)"
      ]
     },
     "execution_count": 9,
     "metadata": {},
     "output_type": "execute_result"
    }
   ],
   "source": [
    "selection = alt.selection_single(fields=['hospital_name'],name='Random')\n",
    "color = alt.condition(selection,\n",
    "                      alt.value('steelblue'),\n",
    "                      alt.value('lightgray'))\n",
    "\n",
    "bar=(alt.Chart(df)\n",
    " .mark_bar()\n",
    " .encode(y='mean(max_wait):Q',\n",
    "         x=alt.X('hospital_name:N',\n",
    "         sort=alt.EncodingSortField(field='max_wait', op='mean', \n",
    "                            order='descending')),\n",
    "         color=color\n",
    "    \n",
    "        )\n",
    ").add_selection(selection)\n",
    "\n",
    "bar.title =\"Mean Waiting Time for Hong Kong's Hospital\"\n",
    "bar.encoding.x.title = 'Hospital'\n",
    "bar.encoding.y.title = 'Average Waiting Time in Hour(s)'\n",
    "bar"
   ]
  },
  {
   "cell_type": "markdown",
   "metadata": {},
   "source": [
    "### Example 3b: the bar chart from 3a linked to a line chart showcasing the average wait time by hospital and time of the day"
   ]
  },
  {
   "cell_type": "code",
   "execution_count": 10,
   "metadata": {},
   "outputs": [
    {
     "data": {
      "text/html": [
       "\n",
       "<div id=\"altair-viz-75ef4d070a80487eab8fa9b3ba803863\"></div>\n",
       "<script type=\"text/javascript\">\n",
       "  var VEGA_DEBUG = (typeof VEGA_DEBUG == \"undefined\") ? {} : VEGA_DEBUG;\n",
       "  (function(spec, embedOpt){\n",
       "    let outputDiv = document.currentScript.previousElementSibling;\n",
       "    if (outputDiv.id !== \"altair-viz-75ef4d070a80487eab8fa9b3ba803863\") {\n",
       "      outputDiv = document.getElementById(\"altair-viz-75ef4d070a80487eab8fa9b3ba803863\");\n",
       "    }\n",
       "    const paths = {\n",
       "      \"vega\": \"https://cdn.jsdelivr.net/npm//vega@5?noext\",\n",
       "      \"vega-lib\": \"https://cdn.jsdelivr.net/npm//vega-lib?noext\",\n",
       "      \"vega-lite\": \"https://cdn.jsdelivr.net/npm//vega-lite@4.17.0?noext\",\n",
       "      \"vega-embed\": \"https://cdn.jsdelivr.net/npm//vega-embed@6?noext\",\n",
       "    };\n",
       "\n",
       "    function maybeLoadScript(lib, version) {\n",
       "      var key = `${lib.replace(\"-\", \"\")}_version`;\n",
       "      return (VEGA_DEBUG[key] == version) ?\n",
       "        Promise.resolve(paths[lib]) :\n",
       "        new Promise(function(resolve, reject) {\n",
       "          var s = document.createElement('script');\n",
       "          document.getElementsByTagName(\"head\")[0].appendChild(s);\n",
       "          s.async = true;\n",
       "          s.onload = () => {\n",
       "            VEGA_DEBUG[key] = version;\n",
       "            return resolve(paths[lib]);\n",
       "          };\n",
       "          s.onerror = () => reject(`Error loading script: ${paths[lib]}`);\n",
       "          s.src = paths[lib];\n",
       "        });\n",
       "    }\n",
       "\n",
       "    function showError(err) {\n",
       "      outputDiv.innerHTML = `<div class=\"error\" style=\"color:red;\">${err}</div>`;\n",
       "      throw err;\n",
       "    }\n",
       "\n",
       "    function displayChart(vegaEmbed) {\n",
       "      vegaEmbed(outputDiv, spec, embedOpt)\n",
       "        .catch(err => showError(`Javascript Error: ${err.message}<br>This usually means there's a typo in your chart specification. See the javascript console for the full traceback.`));\n",
       "    }\n",
       "\n",
       "    if(typeof define === \"function\" && define.amd) {\n",
       "      requirejs.config({paths});\n",
       "      require([\"vega-embed\"], displayChart, err => showError(`Error loading script: ${err.message}`));\n",
       "    } else {\n",
       "      maybeLoadScript(\"vega\", \"5\")\n",
       "        .then(() => maybeLoadScript(\"vega-lite\", \"4.17.0\"))\n",
       "        .then(() => maybeLoadScript(\"vega-embed\", \"6\"))\n",
       "        .catch(showError)\n",
       "        .then(() => displayChart(vegaEmbed));\n",
       "    }\n",
       "  })({\"config\": {\"view\": {\"continuousWidth\": 400, \"continuousHeight\": 300}}, \"hconcat\": [{\"mark\": \"bar\", \"encoding\": {\"color\": {\"condition\": {\"value\": \"steelblue\", \"selection\": \"Random\"}, \"value\": \"lightgray\"}, \"x\": {\"field\": \"hospital_name\", \"sort\": {\"field\": \"max_wait\", \"op\": \"mean\", \"order\": \"descending\"}, \"title\": \"Hospital\", \"type\": \"nominal\"}, \"y\": {\"aggregate\": \"mean\", \"field\": \"max_wait\", \"title\": \"Average Waiting Time in Hour(s)\", \"type\": \"quantitative\"}}, \"selection\": {\"Random\": {\"type\": \"single\", \"fields\": [\"hospital_name\"]}}, \"title\": \"Mean Waiting Time for Hong Kong's Hospital\"}, {\"mark\": \"line\", \"encoding\": {\"color\": {\"condition\": {\"field\": \"hospital_name\", \"type\": \"nominal\", \"selection\": \"Random\"}, \"value\": \"lightgray\"}, \"x\": {\"field\": \"hospital_time\", \"timeUnit\": \"hours\", \"title\": \"Hour\", \"type\": \"temporal\"}, \"y\": {\"aggregate\": \"mean\", \"field\": \"max_wait\", \"title\": \"Average Waiting Time in Hour(s)\", \"type\": \"quantitative\"}}, \"title\": \"Waiting Time for Hong Kong's Hospital\"}], \"data\": {\"url\": \"altair-data-2d2a1d3a705305077a6b0c04ade7af65.json\", \"format\": {\"type\": \"json\"}}, \"$schema\": \"https://vega.github.io/schema/vega-lite/v4.17.0.json\"}, {\"mode\": \"vega-lite\"});\n",
       "</script>"
      ],
      "text/plain": [
       "alt.HConcatChart(...)"
      ]
     },
     "execution_count": 10,
     "metadata": {},
     "output_type": "execute_result"
    }
   ],
   "source": [
    "color2 = alt.condition(selection,\n",
    "                      alt.Color('hospital_name:N'),\n",
    "#                       alt.value('steelblue'),\n",
    "                      alt.value('lightgray'))\n",
    "\n",
    "line1=(alt.Chart(df)\n",
    " .mark_line()\n",
    " .encode(x=alt.X('hours(hospital_time):T'),\n",
    "         y='mean(max_wait):Q',\n",
    "         color=color2\n",
    "        \n",
    "    \n",
    "        )\n",
    ")\n",
    "\n",
    "line1.title =\"Waiting Time for Hong Kong's Hospital\"\n",
    "line1.encoding.x.title = 'Hour'\n",
    "line1.encoding.y.title = 'Average Waiting Time in Hour(s)'\n",
    "bar | line1\n",
    "\n",
    "\n"
   ]
  },
  {
   "cell_type": "markdown",
   "metadata": {},
   "source": [
    "### Example 3c: the bar chart from 3a linked to a line chart showcasing the average wait time for the selected hospial by date"
   ]
  },
  {
   "cell_type": "code",
   "execution_count": 11,
   "metadata": {},
   "outputs": [
    {
     "data": {
      "text/html": [
       "\n",
       "<div id=\"altair-viz-5e7c475b01264b678a9d0eedd98b02e8\"></div>\n",
       "<script type=\"text/javascript\">\n",
       "  var VEGA_DEBUG = (typeof VEGA_DEBUG == \"undefined\") ? {} : VEGA_DEBUG;\n",
       "  (function(spec, embedOpt){\n",
       "    let outputDiv = document.currentScript.previousElementSibling;\n",
       "    if (outputDiv.id !== \"altair-viz-5e7c475b01264b678a9d0eedd98b02e8\") {\n",
       "      outputDiv = document.getElementById(\"altair-viz-5e7c475b01264b678a9d0eedd98b02e8\");\n",
       "    }\n",
       "    const paths = {\n",
       "      \"vega\": \"https://cdn.jsdelivr.net/npm//vega@5?noext\",\n",
       "      \"vega-lib\": \"https://cdn.jsdelivr.net/npm//vega-lib?noext\",\n",
       "      \"vega-lite\": \"https://cdn.jsdelivr.net/npm//vega-lite@4.17.0?noext\",\n",
       "      \"vega-embed\": \"https://cdn.jsdelivr.net/npm//vega-embed@6?noext\",\n",
       "    };\n",
       "\n",
       "    function maybeLoadScript(lib, version) {\n",
       "      var key = `${lib.replace(\"-\", \"\")}_version`;\n",
       "      return (VEGA_DEBUG[key] == version) ?\n",
       "        Promise.resolve(paths[lib]) :\n",
       "        new Promise(function(resolve, reject) {\n",
       "          var s = document.createElement('script');\n",
       "          document.getElementsByTagName(\"head\")[0].appendChild(s);\n",
       "          s.async = true;\n",
       "          s.onload = () => {\n",
       "            VEGA_DEBUG[key] = version;\n",
       "            return resolve(paths[lib]);\n",
       "          };\n",
       "          s.onerror = () => reject(`Error loading script: ${paths[lib]}`);\n",
       "          s.src = paths[lib];\n",
       "        });\n",
       "    }\n",
       "\n",
       "    function showError(err) {\n",
       "      outputDiv.innerHTML = `<div class=\"error\" style=\"color:red;\">${err}</div>`;\n",
       "      throw err;\n",
       "    }\n",
       "\n",
       "    function displayChart(vegaEmbed) {\n",
       "      vegaEmbed(outputDiv, spec, embedOpt)\n",
       "        .catch(err => showError(`Javascript Error: ${err.message}<br>This usually means there's a typo in your chart specification. See the javascript console for the full traceback.`));\n",
       "    }\n",
       "\n",
       "    if(typeof define === \"function\" && define.amd) {\n",
       "      requirejs.config({paths});\n",
       "      require([\"vega-embed\"], displayChart, err => showError(`Error loading script: ${err.message}`));\n",
       "    } else {\n",
       "      maybeLoadScript(\"vega\", \"5\")\n",
       "        .then(() => maybeLoadScript(\"vega-lite\", \"4.17.0\"))\n",
       "        .then(() => maybeLoadScript(\"vega-embed\", \"6\"))\n",
       "        .catch(showError)\n",
       "        .then(() => displayChart(vegaEmbed));\n",
       "    }\n",
       "  })({\"config\": {\"view\": {\"continuousWidth\": 400, \"continuousHeight\": 300}}, \"hconcat\": [{\"mark\": \"bar\", \"encoding\": {\"color\": {\"condition\": {\"value\": \"steelblue\", \"selection\": \"Random\"}, \"value\": \"lightgray\"}, \"x\": {\"field\": \"hospital_name\", \"sort\": {\"field\": \"max_wait\", \"op\": \"mean\", \"order\": \"descending\"}, \"title\": \"Hospital\", \"type\": \"nominal\"}, \"y\": {\"aggregate\": \"mean\", \"field\": \"max_wait\", \"title\": \"Average Waiting Time in Hour(s)\", \"type\": \"quantitative\"}}, \"selection\": {\"Random\": {\"type\": \"single\", \"fields\": [\"hospital_name\"]}}, \"title\": \"Mean Waiting Time for Hong Kong's Hospital\"}, {\"mark\": \"line\", \"encoding\": {\"x\": {\"field\": \"hospital_time\", \"timeUnit\": \"yearmonthdate\", \"title\": \"Date\", \"type\": \"temporal\"}, \"y\": {\"aggregate\": \"mean\", \"field\": \"max_wait\", \"title\": \"Average Waiting Time in Hour(s)\", \"type\": \"quantitative\"}}, \"title\": \"Average Waiting Time in 1 Day for Hong Kong's Hospital\", \"transform\": [{\"filter\": {\"selection\": \"Random\"}}]}], \"data\": {\"url\": \"altair-data-2d2a1d3a705305077a6b0c04ade7af65.json\", \"format\": {\"type\": \"json\"}}, \"$schema\": \"https://vega.github.io/schema/vega-lite/v4.17.0.json\"}, {\"mode\": \"vega-lite\"});\n",
       "</script>"
      ],
      "text/plain": [
       "alt.HConcatChart(...)"
      ]
     },
     "execution_count": 11,
     "metadata": {},
     "output_type": "execute_result"
    }
   ],
   "source": [
    "line2=(alt.Chart(df)\n",
    " .mark_line()\n",
    " .encode(x=alt.X('yearmonthdate(hospital_time):T'),\n",
    "         y='mean(max_wait):Q'\n",
    "        \n",
    "    \n",
    "        )\n",
    ").transform_filter(selection)\n",
    "\n",
    "line2.title =\"Average Waiting Time in 1 Day for Hong Kong's Hospital\"\n",
    "line2.encoding.x.title = 'Date'\n",
    "line2.encoding.y.title = 'Average Waiting Time in Hour(s)'\n",
    "bar | line2"
   ]
  },
  {
   "cell_type": "markdown",
   "metadata": {},
   "source": [
    "### Example 3d: more complex layout of 3a, 3b, and 3c"
   ]
  },
  {
   "cell_type": "code",
   "execution_count": 12,
   "metadata": {},
   "outputs": [
    {
     "data": {
      "text/html": [
       "\n",
       "<div id=\"altair-viz-49eb3cf33008430fbd8e1e0870c0a571\"></div>\n",
       "<script type=\"text/javascript\">\n",
       "  var VEGA_DEBUG = (typeof VEGA_DEBUG == \"undefined\") ? {} : VEGA_DEBUG;\n",
       "  (function(spec, embedOpt){\n",
       "    let outputDiv = document.currentScript.previousElementSibling;\n",
       "    if (outputDiv.id !== \"altair-viz-49eb3cf33008430fbd8e1e0870c0a571\") {\n",
       "      outputDiv = document.getElementById(\"altair-viz-49eb3cf33008430fbd8e1e0870c0a571\");\n",
       "    }\n",
       "    const paths = {\n",
       "      \"vega\": \"https://cdn.jsdelivr.net/npm//vega@5?noext\",\n",
       "      \"vega-lib\": \"https://cdn.jsdelivr.net/npm//vega-lib?noext\",\n",
       "      \"vega-lite\": \"https://cdn.jsdelivr.net/npm//vega-lite@4.17.0?noext\",\n",
       "      \"vega-embed\": \"https://cdn.jsdelivr.net/npm//vega-embed@6?noext\",\n",
       "    };\n",
       "\n",
       "    function maybeLoadScript(lib, version) {\n",
       "      var key = `${lib.replace(\"-\", \"\")}_version`;\n",
       "      return (VEGA_DEBUG[key] == version) ?\n",
       "        Promise.resolve(paths[lib]) :\n",
       "        new Promise(function(resolve, reject) {\n",
       "          var s = document.createElement('script');\n",
       "          document.getElementsByTagName(\"head\")[0].appendChild(s);\n",
       "          s.async = true;\n",
       "          s.onload = () => {\n",
       "            VEGA_DEBUG[key] = version;\n",
       "            return resolve(paths[lib]);\n",
       "          };\n",
       "          s.onerror = () => reject(`Error loading script: ${paths[lib]}`);\n",
       "          s.src = paths[lib];\n",
       "        });\n",
       "    }\n",
       "\n",
       "    function showError(err) {\n",
       "      outputDiv.innerHTML = `<div class=\"error\" style=\"color:red;\">${err}</div>`;\n",
       "      throw err;\n",
       "    }\n",
       "\n",
       "    function displayChart(vegaEmbed) {\n",
       "      vegaEmbed(outputDiv, spec, embedOpt)\n",
       "        .catch(err => showError(`Javascript Error: ${err.message}<br>This usually means there's a typo in your chart specification. See the javascript console for the full traceback.`));\n",
       "    }\n",
       "\n",
       "    if(typeof define === \"function\" && define.amd) {\n",
       "      requirejs.config({paths});\n",
       "      require([\"vega-embed\"], displayChart, err => showError(`Error loading script: ${err.message}`));\n",
       "    } else {\n",
       "      maybeLoadScript(\"vega\", \"5\")\n",
       "        .then(() => maybeLoadScript(\"vega-lite\", \"4.17.0\"))\n",
       "        .then(() => maybeLoadScript(\"vega-embed\", \"6\"))\n",
       "        .catch(showError)\n",
       "        .then(() => displayChart(vegaEmbed));\n",
       "    }\n",
       "  })({\"config\": {\"view\": {\"continuousWidth\": 400, \"continuousHeight\": 300}}, \"hconcat\": [{\"mark\": \"bar\", \"encoding\": {\"color\": {\"condition\": {\"value\": \"steelblue\", \"selection\": \"Random\"}, \"value\": \"lightgray\"}, \"x\": {\"field\": \"hospital_name\", \"sort\": {\"field\": \"max_wait\", \"op\": \"mean\", \"order\": \"descending\"}, \"title\": \"Hospital\", \"type\": \"nominal\"}, \"y\": {\"aggregate\": \"mean\", \"field\": \"max_wait\", \"title\": \"Average Waiting Time in Hour(s)\", \"type\": \"quantitative\"}}, \"selection\": {\"Random\": {\"type\": \"single\", \"fields\": [\"hospital_name\"]}}, \"title\": \"Mean Waiting Time for Hong Kong's Hospital\"}, {\"vconcat\": [{\"mark\": \"line\", \"encoding\": {\"x\": {\"field\": \"hospital_time\", \"timeUnit\": \"yearmonthdate\", \"title\": \"Date\", \"type\": \"temporal\"}, \"y\": {\"aggregate\": \"mean\", \"field\": \"max_wait\", \"title\": \"Average Waiting Time in Hour(s)\", \"type\": \"quantitative\"}}, \"title\": \"Average Waiting Time in 1 Day for Hong Kong's Hospital\", \"transform\": [{\"filter\": {\"selection\": \"Random\"}}]}, {\"mark\": \"line\", \"encoding\": {\"color\": {\"condition\": {\"field\": \"hospital_name\", \"type\": \"nominal\", \"selection\": \"Random\"}, \"value\": \"lightgray\"}, \"x\": {\"field\": \"hospital_time\", \"timeUnit\": \"hours\", \"title\": \"Hour\", \"type\": \"temporal\"}, \"y\": {\"aggregate\": \"mean\", \"field\": \"max_wait\", \"title\": \"Average Waiting Time in Hour(s)\", \"type\": \"quantitative\"}}, \"title\": \"Waiting Time for Hong Kong's Hospital\"}]}], \"data\": {\"url\": \"altair-data-2d2a1d3a705305077a6b0c04ade7af65.json\", \"format\": {\"type\": \"json\"}}, \"$schema\": \"https://vega.github.io/schema/vega-lite/v4.17.0.json\"}, {\"mode\": \"vega-lite\"});\n",
       "</script>"
      ],
      "text/plain": [
       "alt.HConcatChart(...)"
      ]
     },
     "execution_count": 12,
     "metadata": {},
     "output_type": "execute_result"
    }
   ],
   "source": [
    "bar|line2&line1"
   ]
  },
  {
   "cell_type": "markdown",
   "metadata": {},
   "source": [
    "## Assignment\n",
    "\n",
    "\n",
    "Modify the code of the data/chart to do the following:\n",
    "\n",
    "* Add proper titles and labels to all elements of every chart\n",
    "* For charts 1a and 1b, reorder the days of the week to the proper order, and make sure the weeks of the year with missing data get displayed\n",
    "* For chart 2 merge make sure that there is a single row for the hospital that is broken up and remove the hospital name from the tooltip\n",
    "* For chart 3d: modify chart 3c so all lines show up and only the highlighted hospital is colorized when selected (like 3c). Also, rearrange the charts so all three are in a single row side by side\n",
    "\n",
    "Make the changes and render an html file. Submit the html file to canvas.\n",
    "\n",
    "Note: do not submit the data JSON."
   ]
  },
  {
   "attachments": {},
   "cell_type": "markdown",
   "metadata": {},
   "source": [
    "# 1a and 1b"
   ]
  },
  {
   "cell_type": "code",
   "execution_count": 43,
   "metadata": {},
   "outputs": [
    {
     "data": {
      "text/html": [
       "\n",
       "<div id=\"altair-viz-6bde98990cb84ceab98a2f8c8110c7a5\"></div>\n",
       "<script type=\"text/javascript\">\n",
       "  var VEGA_DEBUG = (typeof VEGA_DEBUG == \"undefined\") ? {} : VEGA_DEBUG;\n",
       "  (function(spec, embedOpt){\n",
       "    let outputDiv = document.currentScript.previousElementSibling;\n",
       "    if (outputDiv.id !== \"altair-viz-6bde98990cb84ceab98a2f8c8110c7a5\") {\n",
       "      outputDiv = document.getElementById(\"altair-viz-6bde98990cb84ceab98a2f8c8110c7a5\");\n",
       "    }\n",
       "    const paths = {\n",
       "      \"vega\": \"https://cdn.jsdelivr.net/npm//vega@5?noext\",\n",
       "      \"vega-lib\": \"https://cdn.jsdelivr.net/npm//vega-lib?noext\",\n",
       "      \"vega-lite\": \"https://cdn.jsdelivr.net/npm//vega-lite@4.17.0?noext\",\n",
       "      \"vega-embed\": \"https://cdn.jsdelivr.net/npm//vega-embed@6?noext\",\n",
       "    };\n",
       "\n",
       "    function maybeLoadScript(lib, version) {\n",
       "      var key = `${lib.replace(\"-\", \"\")}_version`;\n",
       "      return (VEGA_DEBUG[key] == version) ?\n",
       "        Promise.resolve(paths[lib]) :\n",
       "        new Promise(function(resolve, reject) {\n",
       "          var s = document.createElement('script');\n",
       "          document.getElementsByTagName(\"head\")[0].appendChild(s);\n",
       "          s.async = true;\n",
       "          s.onload = () => {\n",
       "            VEGA_DEBUG[key] = version;\n",
       "            return resolve(paths[lib]);\n",
       "          };\n",
       "          s.onerror = () => reject(`Error loading script: ${paths[lib]}`);\n",
       "          s.src = paths[lib];\n",
       "        });\n",
       "    }\n",
       "\n",
       "    function showError(err) {\n",
       "      outputDiv.innerHTML = `<div class=\"error\" style=\"color:red;\">${err}</div>`;\n",
       "      throw err;\n",
       "    }\n",
       "\n",
       "    function displayChart(vegaEmbed) {\n",
       "      vegaEmbed(outputDiv, spec, embedOpt)\n",
       "        .catch(err => showError(`Javascript Error: ${err.message}<br>This usually means there's a typo in your chart specification. See the javascript console for the full traceback.`));\n",
       "    }\n",
       "\n",
       "    if(typeof define === \"function\" && define.amd) {\n",
       "      requirejs.config({paths});\n",
       "      require([\"vega-embed\"], displayChart, err => showError(`Error loading script: ${err.message}`));\n",
       "    } else {\n",
       "      maybeLoadScript(\"vega\", \"5\")\n",
       "        .then(() => maybeLoadScript(\"vega-lite\", \"4.17.0\"))\n",
       "        .then(() => maybeLoadScript(\"vega-embed\", \"6\"))\n",
       "        .catch(showError)\n",
       "        .then(() => displayChart(vegaEmbed));\n",
       "    }\n",
       "  })({\"config\": {\"view\": {\"continuousWidth\": 400, \"continuousHeight\": 300}, \"header\": {\"labelFontSize\": 15, \"titleFontSize\": 20}}, \"data\": {\"url\": \"altair-data-2d2a1d3a705305077a6b0c04ade7af65.json\", \"format\": {\"type\": \"json\"}}, \"mark\": \"rect\", \"encoding\": {\"color\": {\"aggregate\": \"mean\", \"field\": \"max_wait\", \"scale\": {\"scheme\": \"orangered\"}, \"title\": \"Mean Wait Time (Hours)\", \"type\": \"quantitative\"}, \"x\": {\"axis\": {\"title\": \"Week\"}, \"field\": \"week\", \"type\": \"ordinal\"}, \"y\": {\"axis\": {\"title\": \"Weekday\", \"values\": [\"Monday\", \"Tuesday\", \"Wednesday\", \"Thursday\", \"Friday\", \"Saturday\", \"Sunday\"]}, \"field\": \"wkday_name\", \"type\": \"ordinal\"}}, \"title\": \"Mean Waiting Time for Hong Kong's Hospital\", \"$schema\": \"https://vega.github.io/schema/vega-lite/v4.17.0.json\"}, {\"mode\": \"vega-lite\"});\n",
       "</script>"
      ],
      "text/plain": [
       "alt.Chart(...)"
      ]
     },
     "execution_count": 43,
     "metadata": {},
     "output_type": "execute_result"
    }
   ],
   "source": [
    "(alt.Chart(df)\n",
    " .mark_rect()\n",
    " .encode(x = alt.X('week:O', axis=alt.Axis(title='Week')),\n",
    "        y = alt.Y('wkday_name:O', axis=alt.Axis(title='Weekday', values=['Monday', 'Tuesday', 'Wednesday', 'Thursday', 'Friday', 'Saturday', 'Sunday'])), \n",
    "        color=alt.Color('mean(max_wait):Q', scale=alt.Scale(scheme='orangered'), title='Mean Wait Time (Hours)'))\n",
    "        .configure_header(titleFontSize=20, labelFontSize=15)\n",
    "        .properties(title='Mean Waiting Time for Hong Kong\\'s Hospital'))\n"
   ]
  },
  {
   "cell_type": "code",
   "execution_count": 28,
   "metadata": {},
   "outputs": [
    {
     "data": {
      "text/html": [
       "\n",
       "<div id=\"altair-viz-3cab0ac13d194de58102d701eede1505\"></div>\n",
       "<script type=\"text/javascript\">\n",
       "  var VEGA_DEBUG = (typeof VEGA_DEBUG == \"undefined\") ? {} : VEGA_DEBUG;\n",
       "  (function(spec, embedOpt){\n",
       "    let outputDiv = document.currentScript.previousElementSibling;\n",
       "    if (outputDiv.id !== \"altair-viz-3cab0ac13d194de58102d701eede1505\") {\n",
       "      outputDiv = document.getElementById(\"altair-viz-3cab0ac13d194de58102d701eede1505\");\n",
       "    }\n",
       "    const paths = {\n",
       "      \"vega\": \"https://cdn.jsdelivr.net/npm//vega@5?noext\",\n",
       "      \"vega-lib\": \"https://cdn.jsdelivr.net/npm//vega-lib?noext\",\n",
       "      \"vega-lite\": \"https://cdn.jsdelivr.net/npm//vega-lite@4.17.0?noext\",\n",
       "      \"vega-embed\": \"https://cdn.jsdelivr.net/npm//vega-embed@6?noext\",\n",
       "    };\n",
       "\n",
       "    function maybeLoadScript(lib, version) {\n",
       "      var key = `${lib.replace(\"-\", \"\")}_version`;\n",
       "      return (VEGA_DEBUG[key] == version) ?\n",
       "        Promise.resolve(paths[lib]) :\n",
       "        new Promise(function(resolve, reject) {\n",
       "          var s = document.createElement('script');\n",
       "          document.getElementsByTagName(\"head\")[0].appendChild(s);\n",
       "          s.async = true;\n",
       "          s.onload = () => {\n",
       "            VEGA_DEBUG[key] = version;\n",
       "            return resolve(paths[lib]);\n",
       "          };\n",
       "          s.onerror = () => reject(`Error loading script: ${paths[lib]}`);\n",
       "          s.src = paths[lib];\n",
       "        });\n",
       "    }\n",
       "\n",
       "    function showError(err) {\n",
       "      outputDiv.innerHTML = `<div class=\"error\" style=\"color:red;\">${err}</div>`;\n",
       "      throw err;\n",
       "    }\n",
       "\n",
       "    function displayChart(vegaEmbed) {\n",
       "      vegaEmbed(outputDiv, spec, embedOpt)\n",
       "        .catch(err => showError(`Javascript Error: ${err.message}<br>This usually means there's a typo in your chart specification. See the javascript console for the full traceback.`));\n",
       "    }\n",
       "\n",
       "    if(typeof define === \"function\" && define.amd) {\n",
       "      requirejs.config({paths});\n",
       "      require([\"vega-embed\"], displayChart, err => showError(`Error loading script: ${err.message}`));\n",
       "    } else {\n",
       "      maybeLoadScript(\"vega\", \"5\")\n",
       "        .then(() => maybeLoadScript(\"vega-lite\", \"4.17.0\"))\n",
       "        .then(() => maybeLoadScript(\"vega-embed\", \"6\"))\n",
       "        .catch(showError)\n",
       "        .then(() => displayChart(vegaEmbed));\n",
       "    }\n",
       "  })({\"config\": {\"view\": {\"continuousWidth\": 400, \"continuousHeight\": 300}}, \"data\": {\"url\": \"altair-data-2d2a1d3a705305077a6b0c04ade7af65.json\", \"format\": {\"type\": \"json\"}}, \"facet\": {\"row\": {\"field\": \"yr\", \"type\": \"quantitative\"}}, \"spec\": {\"mark\": \"rect\", \"encoding\": {\"color\": {\"aggregate\": \"mean\", \"field\": \"max_wait\", \"scale\": {\"scheme\": \"orangered\"}, \"title\": \"Mean Wait Time (Hours)\", \"type\": \"quantitative\"}, \"x\": {\"axis\": {\"title\": \"Week\"}, \"field\": \"week\", \"type\": \"ordinal\"}, \"y\": {\"axis\": {\"title\": \"Weekday\"}, \"field\": \"wkday_name\", \"type\": \"ordinal\"}}, \"title\": \"Mean Waiting Time for Hong Kong's Hospital\"}, \"$schema\": \"https://vega.github.io/schema/vega-lite/v4.17.0.json\"}, {\"mode\": \"vega-lite\"});\n",
       "</script>"
      ],
      "text/plain": [
       "alt.FacetChart(...)"
      ]
     },
     "execution_count": 28,
     "metadata": {},
     "output_type": "execute_result"
    }
   ],
   "source": [
    "(alt.Chart(df)\n",
    " .mark_rect()\n",
    " .encode(x = alt.X('week:O', axis=alt.Axis(title='Week')),\n",
    "        y = alt.Y('wkday_name:O', axis=alt.Axis(title='Weekday')),\n",
    "        color=alt.Color('mean(max_wait):Q', scale=alt.Scale(scheme='orangered'), title='Mean Wait Time (Hours)'))\n",
    "        .properties(title='Mean Waiting Time for Hong Kong\\'s Hospital')\n",
    "\n",
    ").facet(\n",
    "    row=\"yr\"\n",
    ")"
   ]
  },
  {
   "cell_type": "code",
   "execution_count": 26,
   "metadata": {},
   "outputs": [
    {
     "data": {
      "text/html": [
       "\n",
       "<div id=\"altair-viz-2480a3b1332545069d3496071742f405\"></div>\n",
       "<script type=\"text/javascript\">\n",
       "  var VEGA_DEBUG = (typeof VEGA_DEBUG == \"undefined\") ? {} : VEGA_DEBUG;\n",
       "  (function(spec, embedOpt){\n",
       "    let outputDiv = document.currentScript.previousElementSibling;\n",
       "    if (outputDiv.id !== \"altair-viz-2480a3b1332545069d3496071742f405\") {\n",
       "      outputDiv = document.getElementById(\"altair-viz-2480a3b1332545069d3496071742f405\");\n",
       "    }\n",
       "    const paths = {\n",
       "      \"vega\": \"https://cdn.jsdelivr.net/npm//vega@5?noext\",\n",
       "      \"vega-lib\": \"https://cdn.jsdelivr.net/npm//vega-lib?noext\",\n",
       "      \"vega-lite\": \"https://cdn.jsdelivr.net/npm//vega-lite@4.17.0?noext\",\n",
       "      \"vega-embed\": \"https://cdn.jsdelivr.net/npm//vega-embed@6?noext\",\n",
       "    };\n",
       "\n",
       "    function maybeLoadScript(lib, version) {\n",
       "      var key = `${lib.replace(\"-\", \"\")}_version`;\n",
       "      return (VEGA_DEBUG[key] == version) ?\n",
       "        Promise.resolve(paths[lib]) :\n",
       "        new Promise(function(resolve, reject) {\n",
       "          var s = document.createElement('script');\n",
       "          document.getElementsByTagName(\"head\")[0].appendChild(s);\n",
       "          s.async = true;\n",
       "          s.onload = () => {\n",
       "            VEGA_DEBUG[key] = version;\n",
       "            return resolve(paths[lib]);\n",
       "          };\n",
       "          s.onerror = () => reject(`Error loading script: ${paths[lib]}`);\n",
       "          s.src = paths[lib];\n",
       "        });\n",
       "    }\n",
       "\n",
       "    function showError(err) {\n",
       "      outputDiv.innerHTML = `<div class=\"error\" style=\"color:red;\">${err}</div>`;\n",
       "      throw err;\n",
       "    }\n",
       "\n",
       "    function displayChart(vegaEmbed) {\n",
       "      vegaEmbed(outputDiv, spec, embedOpt)\n",
       "        .catch(err => showError(`Javascript Error: ${err.message}<br>This usually means there's a typo in your chart specification. See the javascript console for the full traceback.`));\n",
       "    }\n",
       "\n",
       "    if(typeof define === \"function\" && define.amd) {\n",
       "      requirejs.config({paths});\n",
       "      require([\"vega-embed\"], displayChart, err => showError(`Error loading script: ${err.message}`));\n",
       "    } else {\n",
       "      maybeLoadScript(\"vega\", \"5\")\n",
       "        .then(() => maybeLoadScript(\"vega-lite\", \"4.17.0\"))\n",
       "        .then(() => maybeLoadScript(\"vega-embed\", \"6\"))\n",
       "        .catch(showError)\n",
       "        .then(() => displayChart(vegaEmbed));\n",
       "    }\n",
       "  })({\"config\": {\"view\": {\"continuousWidth\": 400, \"continuousHeight\": 300}}, \"data\": {\"url\": \"altair-data-2d2a1d3a705305077a6b0c04ade7af65.json\", \"format\": {\"type\": \"json\"}}, \"facet\": {\"row\": {\"field\": \"yr\", \"type\": \"quantitative\"}}, \"spec\": {\"mark\": \"rect\", \"encoding\": {\"color\": {\"aggregate\": \"mean\", \"field\": \"max_wait\", \"scale\": {\"scheme\": \"orangered\"}, \"type\": \"quantitative\"}, \"x\": {\"field\": \"week\", \"type\": \"ordinal\"}, \"y\": {\"field\": \"wkday_name\", \"type\": \"ordinal\"}}}, \"$schema\": \"https://vega.github.io/schema/vega-lite/v4.17.0.json\"}, {\"mode\": \"vega-lite\"});\n",
       "</script>"
      ],
      "text/plain": [
       "alt.FacetChart(...)"
      ]
     },
     "execution_count": 26,
     "metadata": {},
     "output_type": "execute_result"
    }
   ],
   "source": [
    "(alt.Chart(df)\n",
    " .mark_rect()\n",
    " .encode(x='week:O',\n",
    "         y='wkday_name:O' \n",
    "        ,color=alt.Color('mean(max_wait):Q', scale=alt.Scale(scheme='orangered')))\n",
    ").facet(\n",
    "    row=\"yr\"\n",
    ")"
   ]
  },
  {
   "cell_type": "code",
   "execution_count": null,
   "metadata": {},
   "outputs": [],
   "source": []
  }
 ],
 "metadata": {
  "kernelspec": {
   "display_name": "Python 3 (ipykernel)",
   "language": "python",
   "name": "python3"
  },
  "language_info": {
   "codemirror_mode": {
    "name": "ipython",
    "version": 3
   },
   "file_extension": ".py",
   "mimetype": "text/x-python",
   "name": "python",
   "nbconvert_exporter": "python",
   "pygments_lexer": "ipython3",
   "version": "3.11.1"
  },
  "vscode": {
   "interpreter": {
    "hash": "c0a5a1b4de9112fe8bb471f4f2089472b02e5ccb4219850319f05f6aa62ef44e"
   }
  }
 },
 "nbformat": 4,
 "nbformat_minor": 4
}
