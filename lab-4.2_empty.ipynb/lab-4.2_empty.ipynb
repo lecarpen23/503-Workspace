{
 "cells": [
  {
   "cell_type": "raw",
   "metadata": {},
   "source": [
    "---\n",
    "title: \"Lab-4:2: Working with Altair\"\n",
    "format:\n",
    "  html:\n",
    "    toc: true\n",
    "    embed-resources: true\n",
    "execute:\n",
    "  echo: true\n",
    "---"
   ]
  },
  {
   "cell_type": "markdown",
   "metadata": {},
   "source": [
    "**Author**: M. Vaisman\n",
    "\n",
    "**Download:** [Click here](lab-4.2_empty.ipynb.zip) to download the assignment notebook\n",
    "\n",
    "**Instructions** \n",
    "\n",
    "This notebook consists of TWO parts\n",
    "\n",
    "(1): **Demonstration section:** The instructors will work through this section during the lab period. It is meant to be educational, with various code examples provided for you. You should understand all code in the demonstration section and should run the cells on your local machine before attempting the assignment.\n",
    "\n",
    "(2): **Lab assignment:** See below\n",
    "\n",
    "**NOTE**: It is recommended that you complete this `.ipynb` file in VS-code. Activate the `anly503` environment by selecting the kernel in the upper-right corner of VS-code.  "
   ]
  },
  {
   "cell_type": "markdown",
   "metadata": {},
   "source": [
    "\n",
    "**Submission:**\n",
    "\n",
    "* You need to upload ONE document to Canvas when you are done\n",
    "  * (1) An HTML of the completed notebook \n",
    "* The final uploaded version should NOT have any code-errors present \n",
    "* All outputs must be visible and fully functional in the uploaded version, including code-cell outputs, images, graphs, etc"
   ]
  },
  {
   "cell_type": "markdown",
   "metadata": {},
   "source": [
    "## Demonstration\n",
    "\n",
    "Before starting the assignment, lets work through the various sub-components needed.\n",
    "\n",
    "### Dataset description\n",
    "\n",
    "Back in 2019 (pre-pandemic), Hong Kong nurses protested for overcrowding and lack of resources at public hospitals. [Click here to read the article in the Hong Kong Free Press](https://hongkongfp.com/2019/01/21/hong-kong-nurses-protest-overcrowding-lack-resources-public-hospitals-health-chief-booed/)\n",
    "\n",
    "\n",
    "It seems that someone actually collected data about wait times at the hospitals. We'll be working with that file which provides about 30,000 records of wait times (for a patient) to be seen and/or admitted.\n",
    "\n",
    "The data has the name of the hospital, the date it was collected, the maximum wait time (in hours), and extracted features from the dates.\n"
   ]
  },
  {
   "cell_type": "markdown",
   "metadata": {},
   "source": [
    "### Import"
   ]
  },
  {
   "cell_type": "code",
   "execution_count": null,
   "metadata": {},
   "outputs": [],
   "source": [
    "import pandas as pd\n",
    "import altair as alt\n",
    "df = pd.read_parquet(\n",
    "    \"https://github.com/anly503/datasets/raw/main/hk_hospital_wait.parquet\"\n",
    ")\n"
   ]
  },
  {
   "cell_type": "code",
   "execution_count": null,
   "metadata": {},
   "outputs": [],
   "source": [
    "df.head()"
   ]
  },
  {
   "cell_type": "code",
   "execution_count": null,
   "metadata": {},
   "outputs": [],
   "source": [
    "df.describe"
   ]
  },
  {
   "cell_type": "markdown",
   "metadata": {},
   "source": [
    "## Working with datasets larger than 5,000 rows\n",
    "\n",
    "As you can see, this dataset has 32,000 rows and we know that Altair has a 5,000 row limit. This is for the embedded data in a chart. \n",
    "\n",
    "However, there is a way to do this. By enabling the `alt.data_transformers.enable('json')` transformer, each time you make a plot the data will be serialized to disk and referenced by external URL (on disk), rather than being embedded in the notebook output.\n",
    "\n",
    "This means that the notebook **will not** have the data embedded, but it gives you the ability to use the Altair transformers instead of pre-aggregating the data in Pandas (which is the preferred method.)\n"
   ]
  },
  {
   "cell_type": "code",
   "execution_count": null,
   "metadata": {},
   "outputs": [],
   "source": [
    "alt.data_transformers.enable('json')"
   ]
  },
  {
   "cell_type": "markdown",
   "metadata": {},
   "source": [
    "## Exploring the data\n",
    "\n",
    "We will begin by looking at the average maximum wait time, across all hospitals, by day-of-the-week and week-of-the-year, regardless of year. We'll build a heatmap witl the days of the week (day number) on the y axis and the week of the year on the x axis.\n",
    "\n",
    "### Example 1a: Heatmap of average wait time (across all hospitals) by week-of-the-year and day-of-the-week for the entire period"
   ]
  },
  {
   "cell_type": "code",
   "execution_count": null,
   "metadata": {},
   "outputs": [],
   "source": [
    "(alt.Chart(df)\n",
    " .mark_rect()\n",
    " .encode(x='week:O',\n",
    "         y='wkday_name:O' \n",
    "        ,color=alt.Color('mean(max_wait):Q', scale=alt.Scale(scheme='orangered')))\n",
    ")"
   ]
  },
  {
   "cell_type": "markdown",
   "metadata": {},
   "source": [
    "### Example 1b: Same heatmap, faceted by year."
   ]
  },
  {
   "cell_type": "code",
   "execution_count": null,
   "metadata": {},
   "outputs": [],
   "source": [
    "(alt.Chart(df)\n",
    " .mark_rect()\n",
    " .encode(x='week:O',\n",
    "         y='wkday_name:O' \n",
    "        ,color=alt.Color('mean(max_wait):Q', scale=alt.Scale(scheme='orangered')))\n",
    ").facet(\n",
    "    row=\"yr\"\n",
    ")"
   ]
  },
  {
   "cell_type": "markdown",
   "metadata": {},
   "source": [
    "### Example 2: Let's look at the average maximum wait time, by hospital, by date for the entire period. Note the tooltip."
   ]
  },
  {
   "cell_type": "code",
   "execution_count": null,
   "metadata": {},
   "outputs": [],
   "source": [
    "(alt.Chart(df)\n",
    " .mark_rect()\n",
    " .encode(x='yearmonthdate(hospital_time):O',\n",
    "         y='hospital_name:N',\n",
    "         color=alt.Color('mean(max_wait):Q',\n",
    "                         scale=alt.Scale(scheme='orangered'),\n",
    "                         legend=alt.Legend(type='symbol')\n",
    "                        ),\n",
    "         tooltip=['mean(max_wait)','hospital_name:N'],\n",
    "         \n",
    "        )\n",
    ")"
   ]
  },
  {
   "cell_type": "markdown",
   "metadata": {},
   "source": [
    "### Example 3a: Average maximum wait time by hospital\n",
    "\n",
    "Click on a bar and see what happens!"
   ]
  },
  {
   "cell_type": "code",
   "execution_count": null,
   "metadata": {},
   "outputs": [],
   "source": [
    "selection = alt.selection_single(fields=['hospital_name'],name='Random')\n",
    "color = alt.condition(selection,\n",
    "                      alt.value('steelblue'),\n",
    "                      alt.value('lightgray'))\n",
    "\n",
    "bar=(alt.Chart(df)\n",
    " .mark_bar()\n",
    " .encode(y='mean(max_wait):Q',\n",
    "         x=alt.X('hospital_name:N',\n",
    "         sort=alt.EncodingSortField(field='max_wait', op='mean', \n",
    "                            order='descending')),\n",
    "         color=color\n",
    "    \n",
    "        )\n",
    ").add_selection(selection)\n",
    "\n",
    "bar.title =\"Mean Waiting Time for Hong Kong's Hospital\"\n",
    "bar.encoding.x.title = 'Hospital'\n",
    "bar.encoding.y.title = 'Average Waiting Time in Hour(s)'\n",
    "bar"
   ]
  },
  {
   "cell_type": "markdown",
   "metadata": {},
   "source": [
    "### Example 3b: the bar chart from 3a linked to a line chart showcasing the average wait time by hospital and time of the day"
   ]
  },
  {
   "cell_type": "code",
   "execution_count": null,
   "metadata": {},
   "outputs": [],
   "source": [
    "color2 = alt.condition(selection,\n",
    "                      alt.Color('hospital_name:N'),\n",
    "#                       alt.value('steelblue'),\n",
    "                      alt.value('lightgray'))\n",
    "\n",
    "line1=(alt.Chart(df)\n",
    " .mark_line()\n",
    " .encode(x=alt.X('hours(hospital_time):T'),\n",
    "         y='mean(max_wait):Q',\n",
    "         color=color2\n",
    "        \n",
    "    \n",
    "        )\n",
    ")\n",
    "\n",
    "line1.title =\"Waiting Time for Hong Kong's Hospital\"\n",
    "line1.encoding.x.title = 'Hour'\n",
    "line1.encoding.y.title = 'Average Waiting Time in Hour(s)'\n",
    "bar | line1\n",
    "\n",
    "\n"
   ]
  },
  {
   "cell_type": "markdown",
   "metadata": {},
   "source": [
    "### Example 3c: the bar chart from 3a linked to a line chart showcasing the average wait time for the selected hospial by date"
   ]
  },
  {
   "cell_type": "code",
   "execution_count": null,
   "metadata": {},
   "outputs": [],
   "source": [
    "line2=(alt.Chart(df)\n",
    " .mark_line()\n",
    " .encode(x=alt.X('yearmonthdate(hospital_time):T'),\n",
    "         y='mean(max_wait):Q'\n",
    "        \n",
    "    \n",
    "        )\n",
    ").transform_filter(selection)\n",
    "\n",
    "line2.title =\"Average Waiting Time in 1 Day for Hong Kong's Hospital\"\n",
    "line2.encoding.x.title = 'Date'\n",
    "line2.encoding.y.title = 'Average Waiting Time in Hour(s)'\n",
    "bar | line2"
   ]
  },
  {
   "cell_type": "markdown",
   "metadata": {},
   "source": [
    "### Example 3d: more complex layout of 3a, 3b, and 3c"
   ]
  },
  {
   "cell_type": "code",
   "execution_count": null,
   "metadata": {},
   "outputs": [],
   "source": [
    "bar|line2&line1"
   ]
  },
  {
   "cell_type": "markdown",
   "metadata": {},
   "source": [
    "## Assignment\n",
    "\n",
    "\n",
    "Modify the code of the data/chart to do the following:\n",
    "\n",
    "* Add proper titles and labels to all elements of every chart\n",
    "* For charts 1a and 1b, reorder the days of the week to the proper order, and make sure the weeks of the year with missing data get displayed\n",
    "* For chart 2 merge make sure that there is a single row for the hospital that is broken up and remove the hospital name from the tooltip\n",
    "* For chart 3d: modify chart 3c so all lines show up and only the highlighted hospital is colorized when selected (like 3c). Also, rearrange the charts so all three are in a single row side by side\n",
    "\n",
    "Make the changes and render an html file. Submit the html file to canvas.\n",
    "\n",
    "Note: do not submit the data JSON."
   ]
  },
  {
   "cell_type": "code",
   "execution_count": null,
   "metadata": {},
   "outputs": [],
   "source": []
  }
 ],
 "metadata": {
  "kernelspec": {
   "display_name": "Python 3 (ipykernel)",
   "language": "python",
   "name": "python3"
  },
  "language_info": {
   "codemirror_mode": {
    "name": "ipython",
    "version": 3
   },
   "file_extension": ".py",
   "mimetype": "text/x-python",
   "name": "python",
   "nbconvert_exporter": "python",
   "pygments_lexer": "ipython3",
   "version": "3.10.8"
  },
  "vscode": {
   "interpreter": {
    "hash": "c0a5a1b4de9112fe8bb471f4f2089472b02e5ccb4219850319f05f6aa62ef44e"
   }
  }
 },
 "nbformat": 4,
 "nbformat_minor": 4
}
